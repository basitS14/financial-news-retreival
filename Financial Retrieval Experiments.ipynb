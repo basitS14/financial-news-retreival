{
 "cells": [
  {
   "cell_type": "code",
   "execution_count": 1,
   "id": "822e7818",
   "metadata": {},
   "outputs": [],
   "source": [
    "import pandas as pd"
   ]
  },
  {
   "cell_type": "code",
   "execution_count": 2,
   "id": "6c0c8197",
   "metadata": {},
   "outputs": [],
   "source": [
    "cnbc = pd.read_csv('cnbc_headlines.csv')"
   ]
  },
  {
   "cell_type": "code",
   "execution_count": 3,
   "id": "8c9b1f8e",
   "metadata": {},
   "outputs": [
    {
     "data": {
      "text/html": [
       "<div>\n",
       "<style scoped>\n",
       "    .dataframe tbody tr th:only-of-type {\n",
       "        vertical-align: middle;\n",
       "    }\n",
       "\n",
       "    .dataframe tbody tr th {\n",
       "        vertical-align: top;\n",
       "    }\n",
       "\n",
       "    .dataframe thead th {\n",
       "        text-align: right;\n",
       "    }\n",
       "</style>\n",
       "<table border=\"1\" class=\"dataframe\">\n",
       "  <thead>\n",
       "    <tr style=\"text-align: right;\">\n",
       "      <th></th>\n",
       "      <th>Headlines</th>\n",
       "      <th>Time</th>\n",
       "      <th>Description</th>\n",
       "    </tr>\n",
       "  </thead>\n",
       "  <tbody>\n",
       "    <tr>\n",
       "      <th>0</th>\n",
       "      <td>Jim Cramer: A better way to invest in the Covi...</td>\n",
       "      <td>7:51  PM ET Fri, 17 July 2020</td>\n",
       "      <td>\"Mad Money\" host Jim Cramer recommended buying...</td>\n",
       "    </tr>\n",
       "    <tr>\n",
       "      <th>1</th>\n",
       "      <td>Cramer's lightning round: I would own Teradyne</td>\n",
       "      <td>7:33  PM ET Fri, 17 July 2020</td>\n",
       "      <td>\"Mad Money\" host Jim Cramer rings the lightnin...</td>\n",
       "    </tr>\n",
       "    <tr>\n",
       "      <th>2</th>\n",
       "      <td>NaN</td>\n",
       "      <td>NaN</td>\n",
       "      <td>NaN</td>\n",
       "    </tr>\n",
       "    <tr>\n",
       "      <th>3</th>\n",
       "      <td>Cramer's week ahead: Big week for earnings, ev...</td>\n",
       "      <td>7:25  PM ET Fri, 17 July 2020</td>\n",
       "      <td>\"We'll pay more for the earnings of the non-Co...</td>\n",
       "    </tr>\n",
       "    <tr>\n",
       "      <th>4</th>\n",
       "      <td>IQ Capital CEO Keith Bliss says tech and healt...</td>\n",
       "      <td>4:24  PM ET Fri, 17 July 2020</td>\n",
       "      <td>Keith Bliss, IQ Capital CEO, joins \"Closing Be...</td>\n",
       "    </tr>\n",
       "  </tbody>\n",
       "</table>\n",
       "</div>"
      ],
      "text/plain": [
       "                                           Headlines  \\\n",
       "0  Jim Cramer: A better way to invest in the Covi...   \n",
       "1     Cramer's lightning round: I would own Teradyne   \n",
       "2                                                NaN   \n",
       "3  Cramer's week ahead: Big week for earnings, ev...   \n",
       "4  IQ Capital CEO Keith Bliss says tech and healt...   \n",
       "\n",
       "                             Time  \\\n",
       "0   7:51  PM ET Fri, 17 July 2020   \n",
       "1   7:33  PM ET Fri, 17 July 2020   \n",
       "2                             NaN   \n",
       "3   7:25  PM ET Fri, 17 July 2020   \n",
       "4   4:24  PM ET Fri, 17 July 2020   \n",
       "\n",
       "                                         Description  \n",
       "0  \"Mad Money\" host Jim Cramer recommended buying...  \n",
       "1  \"Mad Money\" host Jim Cramer rings the lightnin...  \n",
       "2                                                NaN  \n",
       "3  \"We'll pay more for the earnings of the non-Co...  \n",
       "4  Keith Bliss, IQ Capital CEO, joins \"Closing Be...  "
      ]
     },
     "execution_count": 3,
     "metadata": {},
     "output_type": "execute_result"
    }
   ],
   "source": [
    "cnbc.head()"
   ]
  },
  {
   "cell_type": "code",
   "execution_count": 4,
   "id": "f2c5d6c1",
   "metadata": {},
   "outputs": [],
   "source": [
    "cnbc.drop(columns = ['Time'] , inplace=True)"
   ]
  },
  {
   "cell_type": "code",
   "execution_count": 5,
   "id": "31a1b9bc",
   "metadata": {},
   "outputs": [
    {
     "name": "stdout",
     "output_type": "stream",
     "text": [
      "<class 'pandas.core.frame.DataFrame'>\n",
      "RangeIndex: 3080 entries, 0 to 3079\n",
      "Data columns (total 2 columns):\n",
      " #   Column       Non-Null Count  Dtype \n",
      "---  ------       --------------  ----- \n",
      " 0   Headlines    2800 non-null   object\n",
      " 1   Description  2800 non-null   object\n",
      "dtypes: object(2)\n",
      "memory usage: 48.3+ KB\n"
     ]
    }
   ],
   "source": [
    "cnbc.info()"
   ]
  },
  {
   "cell_type": "code",
   "execution_count": 6,
   "id": "6ab217df",
   "metadata": {},
   "outputs": [
    {
     "data": {
      "text/plain": [
       "Headlines      280\n",
       "Description    280\n",
       "dtype: int64"
      ]
     },
     "execution_count": 6,
     "metadata": {},
     "output_type": "execute_result"
    }
   ],
   "source": [
    "cnbc.isnull().sum()"
   ]
  },
  {
   "cell_type": "code",
   "execution_count": 7,
   "id": "69375115",
   "metadata": {},
   "outputs": [],
   "source": [
    "cnbc.dropna(inplace=True)"
   ]
  },
  {
   "cell_type": "code",
   "execution_count": 8,
   "id": "a7b89234",
   "metadata": {},
   "outputs": [
    {
     "data": {
      "text/plain": [
       "10"
      ]
     },
     "execution_count": 8,
     "metadata": {},
     "output_type": "execute_result"
    }
   ],
   "source": [
    "cnbc.duplicated().sum()"
   ]
  },
  {
   "cell_type": "code",
   "execution_count": 9,
   "id": "03ef3650",
   "metadata": {},
   "outputs": [],
   "source": [
    "cnbc.drop_duplicates(inplace = True)"
   ]
  },
  {
   "cell_type": "code",
   "execution_count": 10,
   "id": "5750c7d7",
   "metadata": {},
   "outputs": [],
   "source": [
    "cnbc.to_csv('main_cnbc.csv')"
   ]
  },
  {
   "cell_type": "markdown",
   "id": "a3920c1f",
   "metadata": {},
   "source": [
    "## Data Transformation"
   ]
  },
  {
   "cell_type": "code",
   "execution_count": 11,
   "id": "17c83c6f",
   "metadata": {},
   "outputs": [
    {
     "name": "stderr",
     "output_type": "stream",
     "text": [
      "[nltk_data] Error loading punkt: <urlopen error [SSL:\n",
      "[nltk_data]     CERTIFICATE_VERIFY_FAILED] certificate verify failed:\n",
      "[nltk_data]     self signed certificate in certificate chain\n",
      "[nltk_data]     (_ssl.c:1002)>\n",
      "[nltk_data] Error loading stopwords: <urlopen error [SSL:\n",
      "[nltk_data]     CERTIFICATE_VERIFY_FAILED] certificate verify failed:\n",
      "[nltk_data]     self signed certificate in certificate chain\n",
      "[nltk_data]     (_ssl.c:1002)>\n"
     ]
    }
   ],
   "source": [
    "import nltk\n",
    "nltk.download('punkt')\n",
    "nltk.download('stopwords')\n",
    "import string\n",
    "from nltk.corpus import stopwords\n",
    "from nltk.stem import WordNetLemmatizer\n"
   ]
  },
  {
   "cell_type": "code",
   "execution_count": 12,
   "id": "9b793563",
   "metadata": {},
   "outputs": [],
   "source": [
    "def text_transform(text):\n",
    "    text = str(text)\n",
    "    text = text.lower()\n",
    "    text = nltk.word_tokenize(text)\n",
    "    \n",
    "    y = []\n",
    "    \n",
    "    lemmatizer = WordNetLemmatizer()\n",
    "    \n",
    "    for i in text:\n",
    "        if i.isalnum() and (i not in stopwords.words('english') and i not in string.punctuation):\n",
    "            i = lemmatizer.lemmatize(i)\n",
    "            y.append(i)\n",
    "\n",
    "    \n",
    "    return \" \".join(y) # return the list in the form of string    "
   ]
  },
  {
   "cell_type": "code",
   "execution_count": 13,
   "id": "ab7dae83",
   "metadata": {},
   "outputs": [
    {
     "name": "stdout",
     "output_type": "stream",
     "text": [
      "Headlines done\n",
      "Description done\n"
     ]
    }
   ],
   "source": [
    "for col in cnbc.columns:\n",
    "    cnbc[col] = cnbc[col].apply(text_transform)\n",
    "    print(col , \"done\")"
   ]
  },
  {
   "cell_type": "code",
   "execution_count": 14,
   "id": "020bac0e",
   "metadata": {},
   "outputs": [],
   "source": [
    "cnbc.to_csv('transformed_cnbc.csv')"
   ]
  },
  {
   "cell_type": "markdown",
   "id": "7db6afba",
   "metadata": {},
   "source": [
    "## Model Building"
   ]
  },
  {
   "cell_type": "code",
   "execution_count": 17,
   "id": "6d34d38f",
   "metadata": {},
   "outputs": [],
   "source": [
    "from sklearn.feature_extraction.text import TfidfVectorizer\n",
    "from sklearn.metrics.pairwise import cosine_similarity"
   ]
  },
  {
   "cell_type": "code",
   "execution_count": 15,
   "id": "cc2f05d3",
   "metadata": {},
   "outputs": [],
   "source": [
    "cnbc['combined_text'] = cnbc[cnbc.columns].apply(lambda row : ''.join(row.values.astype(str)) , axis = 1)"
   ]
  },
  {
   "cell_type": "code",
   "execution_count": 16,
   "id": "4bab700b",
   "metadata": {},
   "outputs": [
    {
     "data": {
      "text/html": [
       "<div>\n",
       "<style scoped>\n",
       "    .dataframe tbody tr th:only-of-type {\n",
       "        vertical-align: middle;\n",
       "    }\n",
       "\n",
       "    .dataframe tbody tr th {\n",
       "        vertical-align: top;\n",
       "    }\n",
       "\n",
       "    .dataframe thead th {\n",
       "        text-align: right;\n",
       "    }\n",
       "</style>\n",
       "<table border=\"1\" class=\"dataframe\">\n",
       "  <thead>\n",
       "    <tr style=\"text-align: right;\">\n",
       "      <th></th>\n",
       "      <th>Headlines</th>\n",
       "      <th>Description</th>\n",
       "      <th>combined_text</th>\n",
       "    </tr>\n",
       "  </thead>\n",
       "  <tbody>\n",
       "    <tr>\n",
       "      <th>0</th>\n",
       "      <td>jim cramer better way invest vaccine gold rush</td>\n",
       "      <td>mad money host jim cramer recommended buying f...</td>\n",
       "      <td>jim cramer better way invest vaccine gold rush...</td>\n",
       "    </tr>\n",
       "    <tr>\n",
       "      <th>1</th>\n",
       "      <td>cramer lightning round would teradyne</td>\n",
       "      <td>mad money host jim cramer ring lightning round...</td>\n",
       "      <td>cramer lightning round would teradynemad money...</td>\n",
       "    </tr>\n",
       "    <tr>\n",
       "      <th>3</th>\n",
       "      <td>cramer week ahead big week earnings even bigge...</td>\n",
       "      <td>pay earnings company lancet publishes good new...</td>\n",
       "      <td>cramer week ahead big week earnings even bigge...</td>\n",
       "    </tr>\n",
       "    <tr>\n",
       "      <th>4</th>\n",
       "      <td>iq capital ceo keith bliss say tech healthcare...</td>\n",
       "      <td>keith bliss iq capital ceo join closing bell t...</td>\n",
       "      <td>iq capital ceo keith bliss say tech healthcare...</td>\n",
       "    </tr>\n",
       "    <tr>\n",
       "      <th>5</th>\n",
       "      <td>wall street delivered pullback waiting jim cra...</td>\n",
       "      <td>look stock company going lower even though des...</td>\n",
       "      <td>wall street delivered pullback waiting jim cra...</td>\n",
       "    </tr>\n",
       "  </tbody>\n",
       "</table>\n",
       "</div>"
      ],
      "text/plain": [
       "                                           Headlines  \\\n",
       "0     jim cramer better way invest vaccine gold rush   \n",
       "1              cramer lightning round would teradyne   \n",
       "3  cramer week ahead big week earnings even bigge...   \n",
       "4  iq capital ceo keith bliss say tech healthcare...   \n",
       "5  wall street delivered pullback waiting jim cra...   \n",
       "\n",
       "                                         Description  \\\n",
       "0  mad money host jim cramer recommended buying f...   \n",
       "1  mad money host jim cramer ring lightning round...   \n",
       "3  pay earnings company lancet publishes good new...   \n",
       "4  keith bliss iq capital ceo join closing bell t...   \n",
       "5  look stock company going lower even though des...   \n",
       "\n",
       "                                       combined_text  \n",
       "0  jim cramer better way invest vaccine gold rush...  \n",
       "1  cramer lightning round would teradynemad money...  \n",
       "3  cramer week ahead big week earnings even bigge...  \n",
       "4  iq capital ceo keith bliss say tech healthcare...  \n",
       "5  wall street delivered pullback waiting jim cra...  "
      ]
     },
     "execution_count": 16,
     "metadata": {},
     "output_type": "execute_result"
    }
   ],
   "source": [
    "cnbc.head()"
   ]
  },
  {
   "cell_type": "code",
   "execution_count": 18,
   "id": "23f3940c",
   "metadata": {},
   "outputs": [],
   "source": [
    "vectorizer = TfidfVectorizer()\n",
    "tfidf_matrix = vectorizer.fit_transform(cnbc['combined_text'])"
   ]
  },
  {
   "cell_type": "code",
   "execution_count": 19,
   "id": "6baf8e4c",
   "metadata": {},
   "outputs": [],
   "source": [
    "vocab = vectorizer.get_feature_names_out() # saving vocabulary and tf-idf matrix"
   ]
  },
  {
   "cell_type": "code",
   "execution_count": 31,
   "id": "099c273a",
   "metadata": {},
   "outputs": [],
   "source": [
    "df = pd.read_csv('main_cnbc.csv')"
   ]
  },
  {
   "cell_type": "code",
   "execution_count": 32,
   "id": "1e2ad640",
   "metadata": {},
   "outputs": [],
   "source": [
    "def search_query(query , tfidf_matrix , vectorizer):\n",
    "    preprocessed_query = text_transform(query)\n",
    "    query_vector = vectorizer.transform([preprocessed_query])\n",
    "    \n",
    "    similarity_scores = cosine_similarity(query_vector , tfidf_matrix)\n",
    "    top_indices = similarity_scores.argsort()[0][::-1]\n",
    "    \n",
    "    return df.iloc[top_indices[:5]]"
   ]
  },
  {
   "cell_type": "code",
   "execution_count": 33,
   "id": "91061a24",
   "metadata": {},
   "outputs": [
    {
     "data": {
      "text/html": [
       "<div>\n",
       "<style scoped>\n",
       "    .dataframe tbody tr th:only-of-type {\n",
       "        vertical-align: middle;\n",
       "    }\n",
       "\n",
       "    .dataframe tbody tr th {\n",
       "        vertical-align: top;\n",
       "    }\n",
       "\n",
       "    .dataframe thead th {\n",
       "        text-align: right;\n",
       "    }\n",
       "</style>\n",
       "<table border=\"1\" class=\"dataframe\">\n",
       "  <thead>\n",
       "    <tr style=\"text-align: right;\">\n",
       "      <th></th>\n",
       "      <th>Headlines</th>\n",
       "      <th>Description</th>\n",
       "    </tr>\n",
       "  </thead>\n",
       "  <tbody>\n",
       "    <tr>\n",
       "      <th>2136</th>\n",
       "      <td>Bank of America CEO: Our mobile banking streng...</td>\n",
       "      <td>Jim Cramer sits down with Bank of America Chai...</td>\n",
       "    </tr>\n",
       "    <tr>\n",
       "      <th>803</th>\n",
       "      <td>Companies founded only by women receive 3% of ...</td>\n",
       "      <td>\"A founder who sees a huge market opportunity ...</td>\n",
       "    </tr>\n",
       "    <tr>\n",
       "      <th>2133</th>\n",
       "      <td>GDP could rise to 4 percent in Q2 thanks to bu...</td>\n",
       "      <td>Jim Cramer sits down with Bank of America Chai...</td>\n",
       "    </tr>\n",
       "    <tr>\n",
       "      <th>1456</th>\n",
       "      <td>Bank of America Merrill Lynch: A strong China ...</td>\n",
       "      <td>The \"real deal\" could spark a 10 percent rally...</td>\n",
       "    </tr>\n",
       "    <tr>\n",
       "      <th>1076</th>\n",
       "      <td>Bank of America CEO on the importance of digit...</td>\n",
       "      <td>Bank of America CEO Brian Moynihan tells Jim C...</td>\n",
       "    </tr>\n",
       "  </tbody>\n",
       "</table>\n",
       "</div>"
      ],
      "text/plain": [
       "                                              Headlines  \\\n",
       "2136  Bank of America CEO: Our mobile banking streng...   \n",
       "803   Companies founded only by women receive 3% of ...   \n",
       "2133  GDP could rise to 4 percent in Q2 thanks to bu...   \n",
       "1456  Bank of America Merrill Lynch: A strong China ...   \n",
       "1076  Bank of America CEO on the importance of digit...   \n",
       "\n",
       "                                            Description  \n",
       "2136  Jim Cramer sits down with Bank of America Chai...  \n",
       "803   \"A founder who sees a huge market opportunity ...  \n",
       "2133  Jim Cramer sits down with Bank of America Chai...  \n",
       "1456  The \"real deal\" could spark a 10 percent rally...  \n",
       "1076  Bank of America CEO Brian Moynihan tells Jim C...  "
      ]
     },
     "execution_count": 33,
     "metadata": {},
     "output_type": "execute_result"
    }
   ],
   "source": [
    "query = \"Financial Capital of America\"\n",
    "search_results = search_query(query, tfidf_matrix, vectorizer)\n",
    "search_results[['Headlines' , 'Description']]"
   ]
  },
  {
   "cell_type": "code",
   "execution_count": 34,
   "id": "69d64b6e",
   "metadata": {},
   "outputs": [],
   "source": [
    "import pickle\n",
    "pickle.dump( tfidf_matrix, open('tfidf-matrix.pkl' , 'wb'))\n",
    "pickle.dump(vectorizer , open('vectorizer.pkl' , 'wb'))"
   ]
  }
 ],
 "metadata": {
  "kernelspec": {
   "display_name": "Python 3 (ipykernel)",
   "language": "python",
   "name": "python3"
  },
  "language_info": {
   "codemirror_mode": {
    "name": "ipython",
    "version": 3
   },
   "file_extension": ".py",
   "mimetype": "text/x-python",
   "name": "python",
   "nbconvert_exporter": "python",
   "pygments_lexer": "ipython3",
   "version": "3.11.3"
  },
  "toc": {
   "base_numbering": 1,
   "nav_menu": {},
   "number_sections": true,
   "sideBar": true,
   "skip_h1_title": false,
   "title_cell": "Table of Contents",
   "title_sidebar": "Contents",
   "toc_cell": false,
   "toc_position": {},
   "toc_section_display": true,
   "toc_window_display": false
  }
 },
 "nbformat": 4,
 "nbformat_minor": 5
}
